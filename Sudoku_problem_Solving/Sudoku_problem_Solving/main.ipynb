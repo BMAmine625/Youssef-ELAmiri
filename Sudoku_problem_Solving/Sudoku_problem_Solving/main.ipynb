{
 "cells": [
  {
   "cell_type": "code",
   "execution_count": 3,
   "id": "b99a0d84",
   "metadata": {},
   "outputs": [
    {
     "ename": "ModuleNotFoundError",
     "evalue": "No module named 'sudoku_csp'",
     "output_type": "error",
     "traceback": [
      "\u001b[1;31m---------------------------------------------------------------------------\u001b[0m",
      "\u001b[1;31mModuleNotFoundError\u001b[0m                       Traceback (most recent call last)",
      "Cell \u001b[1;32mIn[3], line 1\u001b[0m\n\u001b[1;32m----> 1\u001b[0m \u001b[38;5;28;01mfrom\u001b[39;00m\u001b[38;5;250m \u001b[39m\u001b[38;5;21;01msudoku_csp\u001b[39;00m\u001b[38;5;250m \u001b[39m\u001b[38;5;28;01mimport\u001b[39;00m SudokuCSP\n\u001b[0;32m      3\u001b[0m \u001b[38;5;28;01mdef\u001b[39;00m\u001b[38;5;250m \u001b[39m\u001b[38;5;21mprint_grid\u001b[39m(grid):\n\u001b[0;32m      4\u001b[0m     \u001b[38;5;28;01mfor\u001b[39;00m row \u001b[38;5;129;01min\u001b[39;00m grid:\n",
      "\u001b[1;31mModuleNotFoundError\u001b[0m: No module named 'sudoku_csp'"
     ]
    }
   ],
   "source": [
    "from sudoku_csp import SudokuCSP\n",
    "\n",
    "def print_grid(grid):\n",
    "    for row in grid:\n",
    "        print(\" \".join(str(val) if val != 0 else '.' for val in row))\n",
    "\n",
    "def main():\n",
    "    # Grille Sudoku de l'exercice (exemple — à adapter si besoin)\n",
    "    grid = [\n",
    "        [5, 3, 0, 0, 7, 0, 0, 0, 0],\n",
    "        [6, 0, 0, 1, 9, 5, 0, 0, 0],\n",
    "        [0, 9, 8, 0, 0, 0, 0, 6, 0],\n",
    "        [8, 0, 0, 0, 6, 0, 0, 0, 3],\n",
    "        [4, 0, 0, 8, 0, 3, 0, 0, 1],\n",
    "        [7, 0, 0, 0, 2, 0, 0, 0, 6],\n",
    "        [0, 6, 0, 0, 0, 0, 2, 8, 0],\n",
    "        [0, 0, 0, 4, 1, 9, 0, 0, 5],\n",
    "        [0, 0, 0, 0, 8, 0, 0, 7, 9]\n",
    "    ]\n",
    "\n",
    "    print(\"🧩 Grille Sudoku à résoudre :\")\n",
    "    print_grid(grid)\n",
    "\n",
    "    csp = SudokuCSP(grid)\n",
    "    solution = csp.solve()\n",
    "\n",
    "    if solution:\n",
    "        print(\"\\n✅ Solution trouvée :\")\n",
    "        solved_grid = [[solution[(r, c)] for c in range(9)] for r in range(9)]\n",
    "        print_grid(solved_grid)\n",
    "    else:\n",
    "        print(\"\\n❌ Aucune solution trouvée.\")\n",
    "\n",
    "if __name__ == \"__main__\":\n",
    "    main()\n"
   ]
  }
 ],
 "metadata": {
  "kernelspec": {
   "display_name": "Python 3",
   "language": "python",
   "name": "python3"
  },
  "language_info": {
   "codemirror_mode": {
    "name": "ipython",
    "version": 3
   },
   "file_extension": ".py",
   "mimetype": "text/x-python",
   "name": "python",
   "nbconvert_exporter": "python",
   "pygments_lexer": "ipython3",
   "version": "3.8.2"
  }
 },
 "nbformat": 4,
 "nbformat_minor": 5
}
